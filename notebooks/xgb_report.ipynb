{
 "cells": [
  {
   "cell_type": "code",
   "execution_count": 3,
   "metadata": {},
   "outputs": [],
   "source": [
    "from datasets.loader import load_dataset\n",
    "from models.XGB.forecast import *\n",
    "from sklearn.metrics import mean_squared_error\n",
    "\n",
    "import xgboost as xgb"
   ]
  },
  {
   "attachments": {},
   "cell_type": "markdown",
   "metadata": {},
   "source": [
    "## Define Parameters"
   ]
  },
  {
   "cell_type": "code",
   "execution_count": null,
   "metadata": {},
   "outputs": [],
   "source": [
    "SUNSPOTS_PATH = \"datasets/Sunspots.csv\"\n",
    "\n",
    "N_STEPS_IN_AR = 100\n",
    "N_STEPS_IN_WINDOW = 100\n",
    "N_STEPS_OUT_WINDOW = 50"
   ]
  },
  {
   "attachments": {},
   "cell_type": "markdown",
   "metadata": {},
   "source": [
    "## Load Dataset"
   ]
  },
  {
   "attachments": {},
   "cell_type": "markdown",
   "metadata": {},
   "source": [
    "### Dataset for window forecasting"
   ]
  },
  {
   "cell_type": "code",
   "execution_count": null,
   "metadata": {},
   "outputs": [],
   "source": [
    "ds_sunspots_window = load_dataset(\n",
    "    ds_path=SUNSPOTS_PATH,\n",
    "    n_steps_in=N_STEPS_IN_WINDOW,\n",
    "    n_steps_out=N_STEPS_OUT_WINDOW,\n",
    "    test_fraction=0.1\n",
    ")"
   ]
  },
  {
   "attachments": {},
   "cell_type": "markdown",
   "metadata": {},
   "source": [
    "### Dataset for forecasting with autoregression"
   ]
  },
  {
   "cell_type": "code",
   "execution_count": null,
   "metadata": {},
   "outputs": [],
   "source": [
    "ds_sunspots_ar = load_dataset(\n",
    "    ds_path=SUNSPOTS_PATH,\n",
    "    n_steps_in=N_STEPS_IN_AR,\n",
    "    n_steps_out=1,\n",
    "    test_fraction=0.1\n",
    ")"
   ]
  },
  {
   "attachments": {},
   "cell_type": "markdown",
   "metadata": {},
   "source": [
    "## Train XGBoost regressor"
   ]
  },
  {
   "attachments": {},
   "cell_type": "markdown",
   "metadata": {},
   "source": [
    "### Regressor for window regression"
   ]
  },
  {
   "cell_type": "code",
   "execution_count": null,
   "metadata": {},
   "outputs": [],
   "source": [
    "xgb_window = xgb.XGBRegressor()\n",
    "xgb_window.fit(ds_sunspots_window.train_x, ds_sunspots_window.train_y)\n",
    "xgb_window.save_model(f\"models/XGB/saved/window_forecast_{N_STEPS_IN_WINDOW}-{N_STEPS_OUT_WINDOW}.json\")"
   ]
  },
  {
   "attachments": {},
   "cell_type": "markdown",
   "metadata": {},
   "source": [
    "### Regressor for autoregression"
   ]
  },
  {
   "cell_type": "code",
   "execution_count": null,
   "metadata": {},
   "outputs": [],
   "source": [
    "xgb_ar = xgb.XGBRegressor()\n",
    "xgb_ar.fit(ds_sunspots_ar.train_x, ds_sunspots_ar.train_y)\n",
    "xgb_ar.save_model(f\"models/XGB/saved/ar_forecast_{N_STEPS_IN_AR}.json\")"
   ]
  },
  {
   "attachments": {},
   "cell_type": "markdown",
   "metadata": {},
   "source": [
    "## Forecast and evaluation"
   ]
  },
  {
   "attachments": {},
   "cell_type": "markdown",
   "metadata": {},
   "source": [
    "### Windowed"
   ]
  },
  {
   "cell_type": "code",
   "execution_count": null,
   "metadata": {},
   "outputs": [],
   "source": [
    "forecast = window_forecast(ds_sunspots_window.test_x, xgb_window)\n",
    "forecast_series = get_forecast_series(forecast, ds_sunspots_window.n_train(), N_STEPS_IN_WINDOW, N_STEPS_OUT_WINDOW)"
   ]
  },
  {
   "cell_type": "code",
   "execution_count": null,
   "metadata": {},
   "outputs": [],
   "source": [
    "months_lim = (ds_sunspots_window.n_train(), ds_sunspots_window.n_values())\n",
    "plot_forecasts(ds_sunspots_window.series_all, forecast_series, xlim=months_lim, metric_name=\"mape\")\n",
    "plot_forecast(ds_sunspots_window.series_all, forecast_series, 0, xlim=months_lim, metric_name=\"mape\")"
   ]
  },
  {
   "attachments": {},
   "cell_type": "markdown",
   "metadata": {},
   "source": [
    "### Autoregression"
   ]
  },
  {
   "cell_type": "code",
   "execution_count": null,
   "metadata": {},
   "outputs": [],
   "source": [
    "forecast_ar = ar_forecast(ds_sunspots_ar.train_x, xgb_ar, ds_sunspots_ar.n_test())\n",
    "forecast_series_ar = get_forecast_series_ar(forecast_ar, ds_sunspots_ar.n_train(), ds_sunspots_ar.n_test())"
   ]
  },
  {
   "cell_type": "code",
   "execution_count": null,
   "metadata": {},
   "outputs": [],
   "source": [
    "months_lim = (ds_sunspots_ar.n_train() - 100, ds_sunspots_ar.n_values())\n",
    "plot_forecast_ar(ds_sunspots_ar.series_all, forecast_series_ar, months_lim, N_STEPS_IN_AR, metric_name=\"rmse\")"
   ]
  },
  {
   "cell_type": "code",
   "execution_count": null,
   "metadata": {},
   "outputs": [],
   "source": [
    "plot_forecast_ar(ds_sunspots_ar.series_all, forecast_series_ar, months_lim, N_STEPS_IN_AR, metric_name=\"mape\")"
   ]
  },
  {
   "cell_type": "code",
   "execution_count": null,
   "metadata": {},
   "outputs": [],
   "source": []
  }
 ],
 "metadata": {
  "kernelspec": {
   "display_name": "Wizualizacje",
   "language": "python",
   "name": "python3"
  },
  "language_info": {
   "codemirror_mode": {
    "name": "ipython",
    "version": 3
   },
   "file_extension": ".py",
   "mimetype": "text/x-python",
   "name": "python",
   "nbconvert_exporter": "python",
   "pygments_lexer": "ipython3",
   "version": "3.10.4"
  },
  "orig_nbformat": 4
 },
 "nbformat": 4,
 "nbformat_minor": 2
}
