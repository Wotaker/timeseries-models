{
 "cells": [
  {
   "cell_type": "code",
   "execution_count": 1,
   "metadata": {},
   "outputs": [],
   "source": [
    "from models.ESN.esn_model import ESNModel\n",
    "import os\n",
    "import pandas as pd\n",
    "\n",
    "ROOT_PATH = os.path.pardir\n",
    "SUNSPOTS_PATH = os.path.join(ROOT_PATH, \"datasets/Sunspots.csv\")"
   ]
  },
  {
   "cell_type": "code",
   "execution_count": 2,
   "metadata": {},
   "outputs": [
    {
     "ename": "TypeError",
     "evalue": "load_dataset() got an unexpected keyword argument 'raw_dataset'",
     "output_type": "error",
     "traceback": [
      "\u001b[1;31m---------------------------------------------------------------------------\u001b[0m",
      "\u001b[1;31mTypeError\u001b[0m                                 Traceback (most recent call last)",
      "Cell \u001b[1;32mIn[2], line 1\u001b[0m\n\u001b[1;32m----> 1\u001b[0m MyESN_100_30 \u001b[39m=\u001b[39m ESNModel(\n\u001b[0;32m      2\u001b[0m     dataset\u001b[39m=\u001b[39;49mpd\u001b[39m.\u001b[39;49mread_csv(\u001b[39m\"\u001b[39;49m\u001b[39m../datasets/Sunspots.csv\u001b[39;49m\u001b[39m\"\u001b[39;49m),\n\u001b[0;32m      3\u001b[0m     n_steps_in\u001b[39m=\u001b[39;49m\u001b[39m100\u001b[39;49m,\n\u001b[0;32m      4\u001b[0m     n_steps_out\u001b[39m=\u001b[39;49m\u001b[39m30\u001b[39;49m,\n\u001b[0;32m      5\u001b[0m     test_frac\u001b[39m=\u001b[39;49m\u001b[39m0.1\u001b[39;49m,\n\u001b[0;32m      6\u001b[0m     metric\u001b[39m=\u001b[39;49m\u001b[39mNone\u001b[39;49;00m,\n\u001b[0;32m      7\u001b[0m )\n",
      "File \u001b[1;32mc:\\Users\\piotr\\Workspaces\\timeseries-models\\.venv\\lib\\site-packages\\models\\ESN\\esn_model.py:29\u001b[0m, in \u001b[0;36mESNModel.__init__\u001b[1;34m(self, dataset, n_steps_in, n_steps_out, test_frac, metric, **params)\u001b[0m\n\u001b[0;32m     26\u001b[0m \u001b[39mself\u001b[39m\u001b[39m.\u001b[39mn_steps_out \u001b[39m=\u001b[39m n_steps_out\n\u001b[0;32m     27\u001b[0m \u001b[39mself\u001b[39m\u001b[39m.\u001b[39mmetric_fun \u001b[39m=\u001b[39m metric\n\u001b[1;32m---> 29\u001b[0m \u001b[39mself\u001b[39m\u001b[39m.\u001b[39mdataset: Dataset \u001b[39m=\u001b[39m load_dataset(\n\u001b[0;32m     30\u001b[0m     raw_dataset\u001b[39m=\u001b[39;49mdataset,\n\u001b[0;32m     31\u001b[0m     n_steps_in\u001b[39m=\u001b[39;49mn_steps_in,\n\u001b[0;32m     32\u001b[0m     n_steps_out\u001b[39m=\u001b[39;49mn_steps_out,\n\u001b[0;32m     33\u001b[0m     test_fraction\u001b[39m=\u001b[39;49mtest_frac\n\u001b[0;32m     34\u001b[0m )\n\u001b[0;32m     36\u001b[0m \u001b[39mself\u001b[39m\u001b[39m.\u001b[39mforecasts \u001b[39m=\u001b[39m \u001b[39mNone\u001b[39;00m\n\u001b[0;32m     37\u001b[0m \u001b[39mself\u001b[39m\u001b[39m.\u001b[39mforecast_autoregressive \u001b[39m=\u001b[39m \u001b[39mNone\u001b[39;00m\n",
      "\u001b[1;31mTypeError\u001b[0m: load_dataset() got an unexpected keyword argument 'raw_dataset'"
     ]
    }
   ],
   "source": [
    "MyESN_100_30 = ESNModel(\n",
    "    dataset=pd.read_csv(\"../datasets/Sunspots.csv\"),\n",
    "    n_steps_in=100,\n",
    "    n_steps_out=30,\n",
    "    test_frac=0.1,\n",
    "    metric=None,\n",
    ")"
   ]
  },
  {
   "cell_type": "code",
   "execution_count": null,
   "metadata": {},
   "outputs": [],
   "source": [
    "MyESN_100_30.fit()"
   ]
  },
  {
   "cell_type": "code",
   "execution_count": null,
   "metadata": {},
   "outputs": [],
   "source": [
    "# Autoregressive forecast, as far as test dataset\n",
    "forecast_autoregressive = MyESN_100_30.predict(-1, autoreggressive=True)\n",
    "\n",
    "# Windowed forecast with shift, 25 ahead\n",
    "forecast = MyESN_100_30.predict(25, autoreggressive=False, shift=40)"
   ]
  },
  {
   "cell_type": "code",
   "execution_count": null,
   "metadata": {},
   "outputs": [],
   "source": []
  }
 ],
 "metadata": {
  "kernelspec": {
   "display_name": ".venv",
   "language": "python",
   "name": "python3"
  },
  "language_info": {
   "codemirror_mode": {
    "name": "ipython",
    "version": 3
   },
   "file_extension": ".py",
   "mimetype": "text/x-python",
   "name": "python",
   "nbconvert_exporter": "python",
   "pygments_lexer": "ipython3",
   "version": "3.10.11"
  },
  "orig_nbformat": 4
 },
 "nbformat": 4,
 "nbformat_minor": 2
}
