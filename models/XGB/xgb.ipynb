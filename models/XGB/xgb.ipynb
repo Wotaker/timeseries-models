{
 "cells": [
  {
   "cell_type": "code",
   "execution_count": 118,
   "metadata": {},
   "outputs": [],
   "source": [
    "import numpy as np\n",
    "import numpy.typing as npt\n",
    "import pandas as pd\n",
    "import matplotlib.pyplot as plt\n",
    "import xgboost as xgb\n",
    "\n",
    "TOTAL = 'Monthly Mean Total Sunspot Number'\n",
    "DIFF = 'Sunspot Diff'\n",
    "\n",
    "N_STEPS_IN = 100\n",
    "N_STEPS_OUT = 200\n",
    "TEST_FRAC = 0.1"
   ]
  },
  {
   "cell_type": "code",
   "execution_count": 119,
   "metadata": {},
   "outputs": [
    {
     "data": {
      "text/html": [
       "<div>\n",
       "<style scoped>\n",
       "    .dataframe tbody tr th:only-of-type {\n",
       "        vertical-align: middle;\n",
       "    }\n",
       "\n",
       "    .dataframe tbody tr th {\n",
       "        vertical-align: top;\n",
       "    }\n",
       "\n",
       "    .dataframe thead th {\n",
       "        text-align: right;\n",
       "    }\n",
       "</style>\n",
       "<table border=\"1\" class=\"dataframe\">\n",
       "  <thead>\n",
       "    <tr style=\"text-align: right;\">\n",
       "      <th></th>\n",
       "      <th>Date</th>\n",
       "      <th>Monthly Mean Total Sunspot Number</th>\n",
       "    </tr>\n",
       "  </thead>\n",
       "  <tbody>\n",
       "    <tr>\n",
       "      <th>0</th>\n",
       "      <td>1749-01-31</td>\n",
       "      <td>96.7</td>\n",
       "    </tr>\n",
       "    <tr>\n",
       "      <th>1</th>\n",
       "      <td>1749-02-28</td>\n",
       "      <td>104.3</td>\n",
       "    </tr>\n",
       "    <tr>\n",
       "      <th>2</th>\n",
       "      <td>1749-03-31</td>\n",
       "      <td>116.7</td>\n",
       "    </tr>\n",
       "    <tr>\n",
       "      <th>3</th>\n",
       "      <td>1749-04-30</td>\n",
       "      <td>92.8</td>\n",
       "    </tr>\n",
       "    <tr>\n",
       "      <th>4</th>\n",
       "      <td>1749-05-31</td>\n",
       "      <td>141.7</td>\n",
       "    </tr>\n",
       "  </tbody>\n",
       "</table>\n",
       "</div>"
      ],
      "text/plain": [
       "        Date  Monthly Mean Total Sunspot Number\n",
       "0 1749-01-31                               96.7\n",
       "1 1749-02-28                              104.3\n",
       "2 1749-03-31                              116.7\n",
       "3 1749-04-30                               92.8\n",
       "4 1749-05-31                              141.7"
      ]
     },
     "execution_count": 119,
     "metadata": {},
     "output_type": "execute_result"
    }
   ],
   "source": [
    "df = pd.read_csv(\"../../datasets/Sunspots.csv\")\n",
    "\n",
    "df.drop(df.columns[0], axis=1, inplace=True)    # Drop index collumn\n",
    "df['Date'] = pd.to_datetime(df['Date'])         # Always format the date\n",
    "df = df.sort_values(['Date'])                   # Sort by date\n",
    "\n",
    "df.head()"
   ]
  },
  {
   "cell_type": "code",
   "execution_count": 120,
   "metadata": {},
   "outputs": [
    {
     "name": "stdout",
     "output_type": "stream",
     "text": [
      "<class 'pandas.core.frame.DataFrame'>\n",
      "Int64Index: 3265 entries, 0 to 3264\n",
      "Data columns (total 2 columns):\n",
      " #   Column                             Non-Null Count  Dtype         \n",
      "---  ------                             --------------  -----         \n",
      " 0   Date                               3265 non-null   datetime64[ns]\n",
      " 1   Monthly Mean Total Sunspot Number  3265 non-null   float64       \n",
      "dtypes: datetime64[ns](1), float64(1)\n",
      "memory usage: 76.5 KB\n"
     ]
    }
   ],
   "source": [
    "df.info()"
   ]
  },
  {
   "cell_type": "code",
   "execution_count": 121,
   "metadata": {},
   "outputs": [],
   "source": [
    "# https://machinelearningmastery.com/how-to-develop-lstm-models-for-time-series-forecasting/\n",
    "# split a univariate sequence into samples\n",
    "def split_sequence(sequence, n_steps_in, n_steps_out):\n",
    "\n",
    "    x, y = list(), list()\n",
    "    for i in range(len(sequence)):\n",
    "\n",
    "        # find the end of this pattern\n",
    "        end_ix = i + n_steps_in\n",
    "        out_end_ix = end_ix + n_steps_out\n",
    "        \n",
    "        # check if we are beyond the sequence\n",
    "        if out_end_ix > len(sequence):\n",
    "            break\n",
    "        \n",
    "        # gather input and output parts of the pattern\n",
    "        seq_x, seq_y = sequence[i:end_ix], sequence[end_ix:out_end_ix]\n",
    "        x.append(seq_x)\n",
    "        y.append(seq_y)\n",
    "\n",
    "    return np.array(x), np.array(y)"
   ]
  },
  {
   "cell_type": "code",
   "execution_count": 122,
   "metadata": {},
   "outputs": [
    {
     "data": {
      "text/plain": [
       "(2740, 100)"
      ]
     },
     "metadata": {},
     "output_type": "display_data"
    },
    {
     "data": {
      "text/plain": [
       "(2740, 200)"
      ]
     },
     "metadata": {},
     "output_type": "display_data"
    }
   ],
   "source": [
    "sunspots_total = df[TOTAL]\n",
    "\n",
    "all_obs = sunspots_total.shape[0]\n",
    "test_obs = int(np.round(TEST_FRAC * all_obs))\n",
    "\n",
    "train_x, train_y = split_sequence(\n",
    "    sequence=np.array(sunspots_total)[:-(test_obs - N_STEPS_IN)],\n",
    "    n_steps_in=N_STEPS_IN,\n",
    "    n_steps_out=N_STEPS_OUT\n",
    ")\n",
    "display(train_x.shape, train_y.shape)\n",
    "\n",
    "train_obs = train_x.shape[0]"
   ]
  },
  {
   "cell_type": "code",
   "execution_count": 166,
   "metadata": {},
   "outputs": [
    {
     "data": {
      "text/plain": [
       "0        96.7\n",
       "1       104.3\n",
       "2       116.7\n",
       "3        92.8\n",
       "4       141.7\n",
       "        ...  \n",
       "3260      0.6\n",
       "3261     14.4\n",
       "3262     34.0\n",
       "3263     21.8\n",
       "3264     10.4\n",
       "Name: Monthly Mean Total Sunspot Number, Length: 3265, dtype: float64"
      ]
     },
     "execution_count": 166,
     "metadata": {},
     "output_type": "execute_result"
    }
   ],
   "source": [
    "sunspots_total"
   ]
  },
  {
   "cell_type": "code",
   "execution_count": 123,
   "metadata": {},
   "outputs": [
    {
     "name": "stdout",
     "output_type": "stream",
     "text": [
      "Train observations: 2740\n",
      "Test observations:  326\n",
      "Sum:                3066\n",
      "\n",
      "All observations:   3265\n",
      "Train + Test == All: True\n"
     ]
    }
   ],
   "source": [
    "print(f\"Train observations: {train_obs}\")\n",
    "print(f\"Test observations:  {test_obs}\")\n",
    "print(f\"Sum:                {train_obs + test_obs}\")\n",
    "print(f\"\\nAll observations:   {all_obs}\")\n",
    "print(f\"Train + Test == All: {train_obs + test_obs == all_obs + 1 - N_STEPS_OUT}\")"
   ]
  },
  {
   "attachments": {},
   "cell_type": "markdown",
   "metadata": {},
   "source": [
    "## Regression with XGBoost"
   ]
  },
  {
   "cell_type": "code",
   "execution_count": 124,
   "metadata": {},
   "outputs": [],
   "source": [
    "xgb_reg = xgb.XGBRegressor()\n",
    "xgb_reg.fit(train_x, train_y)\n",
    "xgb_reg.save_model(\"saved/window_model.json\")"
   ]
  },
  {
   "attachments": {},
   "cell_type": "markdown",
   "metadata": {},
   "source": [
    "### Forecast"
   ]
  },
  {
   "attachments": {},
   "cell_type": "markdown",
   "metadata": {},
   "source": [
    "`window`, is an ndarrray $1\\times \\text{N\\_STEPS\\_IN}$. We make a prediction based on `window` (single example -> single prediction), then move the `window` right, so that it now contains the prediction. Lastly, we save the prediction to the `predictions` 1D array"
   ]
  },
  {
   "cell_type": "code",
   "execution_count": 125,
   "metadata": {},
   "outputs": [],
   "source": [
    "def ar_forecast(init_window: npt.NDArray[np.float64], pretrained_model: xgb.XGBRegressor) -> npt.NDArray[np.float64]:\n",
    "\n",
    "    predictions = np.array([])\n",
    "    for _ in range(test_obs):\n",
    "        \n",
    "        prediction = np.expand_dims(pretrained_model.predict(init_window), axis=0)\n",
    "        init_window = np.concatenate((init_window[:, 1:],  prediction), axis=1)\n",
    "        predictions = np.append(predictions, prediction[0, 0])\n",
    "    \n",
    "    return predictions\n",
    "\n",
    "def window_forecast(past_data: npt.NDArray[np.float64], pretrained_model: xgb.XGBRegressor) -> npt.NDArray[np.float64]:\n",
    "\n",
    "    return np.squeeze(pretrained_model.predict(np.reshape(past_data, (1, -1))))"
   ]
  },
  {
   "cell_type": "code",
   "execution_count": 157,
   "metadata": {},
   "outputs": [],
   "source": [
    "test_x = sunspots_total[train_obs - 1 + 100:].values"
   ]
  },
  {
   "cell_type": "code",
   "execution_count": 162,
   "metadata": {},
   "outputs": [],
   "source": [
    "if N_STEPS_OUT == 1:\n",
    "    init_window = np.expand_dims(train_x[-1], axis=0)\n",
    "    forecast = ar_forecast(init_window, xgb_reg)\n",
    "else:\n",
    "    forecast = window_forecast(test_x[:100], xgb_reg)"
   ]
  },
  {
   "attachments": {},
   "cell_type": "markdown",
   "metadata": {},
   "source": [
    "### Plot predictions"
   ]
  },
  {
   "cell_type": "code",
   "execution_count": 127,
   "metadata": {},
   "outputs": [],
   "source": [
    "pred_star_idx = train_obs + N_STEPS_IN - 1\n",
    "pred_end_idx = pred_star_idx + test_obs"
   ]
  },
  {
   "cell_type": "code",
   "execution_count": 165,
   "metadata": {},
   "outputs": [
    {
     "data": {
      "image/png": "[encoded data removed]",
      "text/plain": [
       "<Figure size 640x480 with 1 Axes>"
      ]
     },
     "metadata": {},
     "output_type": "display_data"
    }
   ],
   "source": [
    "plt.scatter(range(sunspots_total.shape[0]), sunspots_total, color = 'tab:blue', label = 'Original', s=2)\n",
    "# plt.scatter(range(pred_star_idx, pred_star_idx + forecast.shape[0]), forecast, color='tab:orange', label='Prediction', s=2)\n",
    "plt.scatter(range(\n",
    "    train_obs - 1 + 100 + 100,\n",
    "    train_obs - 1 + 100 + 100 + 200\n",
    "), forecast, color='tab:orange', label='Prediction', s=2)\n",
    "plt.plot(range(train_obs - 1, train_obs - 1 + 100), np.zeros(100), color=\"green\")\n",
    "plt.plot(range(train_obs - 1 + 100, train_obs - 1 + 100 + test_x.shape[0]), np.zeros(test_x.shape[0]), color=\"red\")\n",
    "plt.xlim(pred_star_idx - 75, all_obs)\n",
    "plt.xlim(2700, all_obs)\n",
    "plt.legend()\n",
    "plt.show()"
   ]
  },
  {
   "cell_type": "code",
   "execution_count": null,
   "metadata": {},
   "outputs": [],
   "source": []
  }
 ],
 "metadata": {
  "kernelspec": {
   "display_name": "Wizualizacje",
   "language": "python",
   "name": "python3"
  },
  "language_info": {
   "codemirror_mode": {
    "name": "ipython",
    "version": 3
   },
   "file_extension": ".py",
   "mimetype": "text/x-python",
   "name": "python",
   "nbconvert_exporter": "python",
   "pygments_lexer": "ipython3",
   "version": "3.10.4"
  },
  "orig_nbformat": 4
 },
 "nbformat": 4,
 "nbformat_minor": 2
}
